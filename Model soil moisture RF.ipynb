{
 "cells": [
  {
   "cell_type": "code",
   "execution_count": null,
   "id": "b7406ad2-dc89-45b5-b71a-686f3ef4a47f",
   "metadata": {},
   "outputs": [],
   "source": [
    "import pandas as pd\n",
    "import matplotlib as mpl\n",
    "import matplotlib.pyplot as plt\n",
    "import seaborn as sns\n",
    "import scipy\n",
    "import data_analysis"
   ]
  },
  {
   "cell_type": "markdown",
   "id": "6caa9c5a-b661-4b0b-8504-6ef2dee67930",
   "metadata": {},
   "source": [
    "## Settings"
   ]
  },
  {
   "cell_type": "code",
   "execution_count": null,
   "id": "b526e24f-03cb-4bff-b4e4-61f06941c286",
   "metadata": {},
   "outputs": [],
   "source": [
    "DATA_FILE = \"input_data.csv\"\n",
    "PARAMETER_COLUMNS_SETS = [\n",
    "    [\n",
    "        \"G_VH_dB\",\n",
    "        \"G_VV_dB\",\n",
    "        \"projectedLocalIncidenceAngle\",\n",
    "        \"assumed_clay_content\",\n",
    "    ],\n",
    "    [\n",
    "        \"C11_ILSF9_BI1000_dB\",\n",
    "        \"C22_ILSF9_BI1000_dB\",\n",
    "        \"Surface_r_ILSF9_BI1000\",\n",
    "        \"Volume_g_ILSF9_BI1000\",\n",
    "        \"Ratio_b_ILSF9_BI1000\",\n",
    "        \"projectedLocalIncidenceAngle\",\n",
    "        \"assumed_clay_content\",\n",
    "    ],\n",
    "]\n",
    "PARAMETERS_SET = 0 # set of parameters from the list above, counting from 0 for the first one\n",
    "SELECTED_PARAMETERS = PARAMETER_COLUMNS_SETS[PARAMETERS_SET]\n",
    "TARGET = \"soil_moisture\"\n",
    "SPLIT_RANDOM_STATE = None # integer or None for random split\n",
    "TUNE_HYPERPARAMETERS = False # True or False to skip\n",
    "# Dictionary with parameters to tune\n",
    "# (will be used only if TUNE_HYPERPARAMETERS = True)\n",
    "HYPERPARAMETERS_GRID = {\n",
    "    \"n_estimators\": [1000, 1400], # integer\n",
    "    \"max_depth\": [16, 14, 12], # integer, None\n",
    "    \"min_samples_split\": [2, 3, 5], # integer\n",
    "    \"min_samples_leaf\": [1, 2, 4, 6], # integer\n",
    "    \"max_features\": [\"sqrt\"], # \"sqrt\", \"log2\"\n",
    "    \"bootstrap\": [True], # True, False\n",
    "}\n",
    "EXPORT_MODEL = True # True or False to skip"
   ]
  },
  {
   "cell_type": "code",
   "execution_count": null,
   "id": "69f15c8c-6d7b-4984-adc4-2694390b3eb4",
   "metadata": {},
   "outputs": [],
   "source": [
    "if not SPLIT_RANDOM_STATE:\n",
    "    from random import randint\n",
    "\n",
    "    SPLIT_RANDOM_STATE = randint(1, 1000)\n",
    "    print(f\"Random split state: {SPLIT_RANDOM_STATE}\")"
   ]
  },
  {
   "cell_type": "markdown",
   "id": "84480897-5dfe-46c2-bb3e-f348e92afe8b",
   "metadata": {},
   "source": [
    "## Set default font for graphs"
   ]
  },
  {
   "cell_type": "code",
   "execution_count": null,
   "id": "c08952d7-cc34-44f7-a69e-6b057081fe75",
   "metadata": {},
   "outputs": [],
   "source": [
    "mpl.rcParams[\"font.family\"] = \"Palatino Linotype\""
   ]
  },
  {
   "cell_type": "markdown",
   "id": "9cb75999-4c09-4b5f-8bee-b7e90640d59e",
   "metadata": {},
   "source": [
    "## Read data"
   ]
  },
  {
   "cell_type": "code",
   "execution_count": null,
   "id": "35148fdc-7313-40da-ba33-252a9b0e86af",
   "metadata": {},
   "outputs": [],
   "source": [
    "df = pd.read_csv(DATA_FILE, sep=\",\", engine=\"python\")\n",
    "df = df[[TARGET] + SELECTED_PARAMETERS]\n",
    "df.head()"
   ]
  },
  {
   "cell_type": "markdown",
   "id": "9694f53c-995e-4dcf-8726-522004f6961f",
   "metadata": {},
   "source": [
    "## Exploratory data analysis"
   ]
  },
  {
   "cell_type": "code",
   "execution_count": null,
   "id": "150abd15-e384-4c61-a6f1-5a61fcd6a0b5",
   "metadata": {},
   "outputs": [],
   "source": [
    "data_analysis.correlation_matrix_heatmap(df, output_file=f\"rf_full_parameters_set_{PARAMETERS_SET}\")"
   ]
  },
  {
   "cell_type": "markdown",
   "id": "35a4e837-9db6-4223-88d2-c7683a2cb63f",
   "metadata": {},
   "source": [
    "## Prepare data for training"
   ]
  },
  {
   "cell_type": "code",
   "execution_count": null,
   "id": "2e04b341-5f4d-428e-9e9e-0a5e4f0521bf",
   "metadata": {},
   "outputs": [],
   "source": [
    "df.dropna(inplace=True)\n",
    "df.reset_index(inplace=True, drop=True)"
   ]
  },
  {
   "cell_type": "code",
   "execution_count": null,
   "id": "5aedaf96-ac6f-4dc7-8a79-e5fcff288fe5",
   "metadata": {},
   "outputs": [],
   "source": [
    "bins = [0, 10, 20, 30, 40, 50, 60]\n",
    "labels = [\"0-10\", \"10-20\", \"20-30\", \"30-40\", \"40-50\", \"50-60\"]\n",
    "df[\"moisture_bin\"] = pd.cut(df[TARGET], bins=bins, labels=labels)"
   ]
  },
  {
   "cell_type": "code",
   "execution_count": null,
   "id": "0c5c31ae-56b3-463d-82e6-dae107419fad",
   "metadata": {},
   "outputs": [],
   "source": [
    "from sklearn.model_selection import StratifiedShuffleSplit\n",
    "\n",
    "split = StratifiedShuffleSplit(n_splits=1, test_size=0.2, random_state=SPLIT_RANDOM_STATE)\n",
    "\n",
    "for train_index, validation_index in split.split(df, df[\"moisture_bin\"]):\n",
    "    df_stratified_training = df.loc[train_index]\n",
    "    df_stratified_validation = df.loc[validation_index]"
   ]
  },
  {
   "cell_type": "code",
   "execution_count": null,
   "id": "a26fca41-e402-43c9-b9ce-c2c339b1761c",
   "metadata": {},
   "outputs": [],
   "source": [
    "bin_counts = df_stratified_training[\"moisture_bin\"].value_counts()\n",
    "bin_weights = 1 / bin_counts\n",
    "df_stratified_training[\"sample_weight\"] = df_stratified_training[\"moisture_bin\"].map(bin_weights)\n",
    "df_stratified_training[\"sample_weight\"] = df_stratified_training[\"sample_weight\"].astype(\"float64\")\n",
    "weights = df_stratified_training[\"sample_weight\"]"
   ]
  },
  {
   "cell_type": "code",
   "execution_count": null,
   "id": "1624f1cb-b573-4f39-b944-2376b93ae535",
   "metadata": {},
   "outputs": [],
   "source": [
    "bin_counts = bin_counts.sort_index()\n",
    "\n",
    "plt.figure(figsize=(8, 6), dpi=300)\n",
    "bars = plt.bar(bin_counts.index.astype(str), bin_counts.values)\n",
    "\n",
    "for i, bar in enumerate(bars):\n",
    "    plt.text(\n",
    "        bar.get_x() + bar.get_width() / 2,\n",
    "        10,\n",
    "        str(bin_counts.values[i]),\n",
    "        ha=\"center\",\n",
    "        va=\"bottom\",\n",
    "        fontsize=16,\n",
    "        rotation=90,\n",
    "        color=\"black\",\n",
    "    )\n",
    "\n",
    "plt.title(\"Measurements counts in soil moisture bins\", fontsize=16)\n",
    "plt.xlabel(\"Soil moisture bin (%)\", fontsize=16)\n",
    "plt.ylabel(\"Measurements count\", fontsize=16)\n",
    "plt.xticks(rotation=45, fontsize=12)\n",
    "plt.yticks(fontsize=12)\n",
    "plt.grid(axis=\"y\", linestyle='--', alpha=0.7)\n",
    "plt.tight_layout()\n",
    "\n",
    "plt.savefig(\"dataset_distribution.png\")\n",
    "\n",
    "plt.show()"
   ]
  },
  {
   "cell_type": "code",
   "execution_count": null,
   "id": "9842e24d-884d-4693-8e7d-2730bb6ff613",
   "metadata": {},
   "outputs": [],
   "source": [
    "for dataset in [df_stratified_training, df_stratified_validation]:\n",
    "    dataset.drop(columns=[\"moisture_bin\", \"sample_weight\"], inplace=True, errors=\"ignore\")"
   ]
  },
  {
   "cell_type": "code",
   "execution_count": null,
   "id": "bb3e91b0-15a8-48f7-a4de-7907a3e34208",
   "metadata": {},
   "outputs": [],
   "source": [
    "X_training, y_training = data_analysis.split_data(df_stratified_training, TARGET)\n",
    "X_validation, y_validation = data_analysis.split_data(df_stratified_validation, TARGET)"
   ]
  },
  {
   "cell_type": "markdown",
   "id": "e9e9a470-1554-4318-84e5-4a9800ba79b2",
   "metadata": {},
   "source": [
    "## Train model"
   ]
  },
  {
   "cell_type": "code",
   "execution_count": null,
   "id": "03c5f613-f298-4452-905c-7b54178ecc2e",
   "metadata": {},
   "outputs": [],
   "source": [
    "from sklearn.ensemble import RandomForestRegressor"
   ]
  },
  {
   "cell_type": "code",
   "execution_count": null,
   "id": "c0bfe783-5eaa-4f91-97e3-cdd0ec4a1127",
   "metadata": {},
   "outputs": [],
   "source": [
    "if TUNE_HYPERPARAMETERS:\n",
    "    from sklearn.model_selection import GridSearchCV\n",
    "    \n",
    "    rf = RandomForestRegressor(random_state=SPLIT_RANDOM_STATE)\n",
    "\n",
    "    grid_search = GridSearchCV(\n",
    "        estimator=rf,\n",
    "        param_grid=HYPERPARAMETERS_GRID,\n",
    "        cv=5,\n",
    "        scoring=\"r2\", # \"r2\" or \"neg_mean_squared_error\"\n",
    "        n_jobs=-1,\n",
    "        verbose=2\n",
    "    )\n",
    "\n",
    "    grid_search.fit(X_training, y_training, sample_weight=weights)\n",
    "\n",
    "    print(\"Best parameters:\", grid_search.best_params_)\n",
    "\n",
    "    rf_model = grid_search.best_estimator_\n",
    "else:\n",
    "    print(\"Skipped parameters tuning\")\n",
    "    \n",
    "    rf_model = RandomForestRegressor(\n",
    "        n_estimators=500,\n",
    "        max_depth=14,\n",
    "        min_samples_split=2,\n",
    "        min_samples_leaf=3,\n",
    "        max_features=\"sqrt\",\n",
    "        bootstrap=True,\n",
    "        random_state=SPLIT_RANDOM_STATE,\n",
    "        n_jobs=-1,\n",
    "    )\n",
    "    \n",
    "    rf_model.fit(X_training, y_training, sample_weight=weights)"
   ]
  },
  {
   "cell_type": "code",
   "execution_count": null,
   "id": "4df0d909-76e9-4b2a-b9d8-207b652d2b8a",
   "metadata": {},
   "outputs": [],
   "source": [
    "if EXPORT_MODEL:\n",
    "    import joblib\n",
    "    \n",
    "    joblib.dump(rf_model, f\"random_forest_{SELECTED_TARGET}.pkl\")"
   ]
  },
  {
   "cell_type": "markdown",
   "id": "32b09a98-beab-4498-bdaa-96bd03cf2607",
   "metadata": {},
   "source": [
    "## Analyze model performance"
   ]
  },
  {
   "cell_type": "code",
   "execution_count": null,
   "id": "3148b6cf-fe60-4bb8-b6be-97364798c685",
   "metadata": {},
   "outputs": [],
   "source": [
    "from sklearn.metrics import root_mean_squared_error\n",
    "import pandas as pd"
   ]
  },
  {
   "cell_type": "code",
   "execution_count": null,
   "id": "97f9f927-d29c-4feb-b9d2-28bc744f26d4",
   "metadata": {},
   "outputs": [],
   "source": [
    "rf_pred = rf_model.predict(X_validation)\n",
    "\n",
    "rmse = root_mean_squared_error(y_validation, rf_pred)\n",
    "r_squared = rf_model.score(X_validation, y_validation)\n",
    "\n",
    "print(\"Performance for unknown data:\")\n",
    "print(f\"Root mean Squared Error: {rmse:.2f}\")\n",
    "print(f\"R-squared value: {r_squared:.2f}\")"
   ]
  },
  {
   "cell_type": "code",
   "execution_count": null,
   "id": "eec1a583-758f-490b-912a-fa055da7860a",
   "metadata": {},
   "outputs": [],
   "source": [
    "rf_pred_training = rf_model.predict(X_training)\n",
    "\n",
    "rmse_training = root_mean_squared_error(y_training, rf_pred_training)\n",
    "r_squared_training = rf_model.score(X_training, y_training)\n",
    "\n",
    "print(\"Performance for known data:\")\n",
    "print(f\"Mean Squared Error: {rmse_training:.2f}\")\n",
    "print(f\"R-squared value: {r_squared_training:.2f}\")"
   ]
  },
  {
   "cell_type": "code",
   "execution_count": null,
   "id": "08e82fec-2b18-4389-b611-8cdafa8635bc",
   "metadata": {},
   "outputs": [],
   "source": [
    "from typing import Tuple\n",
    "\n",
    "def rounded_range(data: pd.Series, resolution: int = 10) -> Tuple[int, int]:\n",
    "    bottom = round(data.min() / resolution - 0.5) * resolution\n",
    "    top = round(data.max() / resolution + 0.5) * resolution\n",
    "\n",
    "    return (bottom, top)"
   ]
  },
  {
   "cell_type": "code",
   "execution_count": null,
   "id": "a8e86396-724c-492b-ac01-db6458e8cd7b",
   "metadata": {},
   "outputs": [],
   "source": [
    "_, top_y = rounded_range(y_validation, resolution=10)\n",
    "_, top_rf_pred = rounded_range(rf_pred, resolution=10)\n",
    "\n",
    "axis_min = 0\n",
    "axis_max = max(top_y, top_rf_pred)\n",
    "\n",
    "plt.figure(figsize=(10, 8), dpi=300)\n",
    "\n",
    "sns.scatterplot(x=y_training, y=rf_model.predict(X_training), color=\"red\", label=\"Predictions on train dataset\")\n",
    "sns.scatterplot(x=y_validation, y=rf_pred, color=\"blue\", label=\"Predictions on validation dataset\")\n",
    "p = sns.regplot(x=y_validation, y=rf_pred, scatter=False, color=\"blue\", label=\"Regression line (validation)\")\n",
    "slope, intercept, r, p, sterr = scipy.stats.linregress(x=p.get_lines()[0].get_xdata(), y=p.get_lines()[0].get_ydata())\n",
    "\n",
    "plt.plot([axis_min, axis_max], [axis_min, axis_max], \"r--\", label=\"Perfect prediction\")\n",
    "\n",
    "plt.xlabel(\"Measured soil moisture (%)\", fontsize=16)\n",
    "plt.ylabel(\"Predicted soil moisture (%)\", fontsize=16)\n",
    "plt.title(f\"Random forest regression prediction of soil moisture\\nRMSE: {rmse:.2f}, R²: {r_squared:.2f}, y = {slope:.3f} x + {intercept:.3f}\", fontsize=16, fontweight=\"bold\")\n",
    "plt.xticks(fontsize=16)\n",
    "plt.yticks(fontsize=16)\n",
    "plt.legend(fontsize=16)\n",
    "plt.grid(True)\n",
    "plt.xlim(axis_min, axis_max)\n",
    "plt.ylim(axis_min, axis_max)\n",
    "plt.gca().set_aspect(\"equal\", adjustable=\"box\")\n",
    "plt.tight_layout()\n",
    "\n",
    "plt.savefig(f\"prediction_test_rf_{TARGET}_params_{PARAMETERS_SET}.png\")\n",
    "plt.show()"
   ]
  },
  {
   "cell_type": "code",
   "execution_count": null,
   "id": "ff1fd624-0627-44b3-b88b-adb41c04a0b9",
   "metadata": {},
   "outputs": [],
   "source": [
    "coeffs = pd.Series(rf_model.feature_importances_, index=X_training.columns)\n",
    "print(coeffs.sort_values(ascending=False))"
   ]
  },
  {
   "cell_type": "code",
   "execution_count": null,
   "id": "6de5b51c-4234-44a9-80a2-f254d56d0f7d",
   "metadata": {},
   "outputs": [],
   "source": [
    "from sklearn.model_selection import cross_val_score\n",
    "\n",
    "scores = cross_val_score(rf_model, X_training, y_training, cv=5, scoring=\"neg_root_mean_squared_error\")\n",
    "print(f\"Cross-validated RMSE: {-scores.mean():.2f} +/- {scores.std():.2f}\")"
   ]
  },
  {
   "cell_type": "code",
   "execution_count": null,
   "id": "52c489d4-e05b-47d8-93d6-7a457962cec2",
   "metadata": {},
   "outputs": [],
   "source": [
    "train_errors = []\n",
    "test_errors = []\n",
    "\n",
    "for estimators in range(100, 1300, 200):\n",
    "    model = RandomForestRegressor(\n",
    "        n_estimators=estimators,\n",
    "        max_depth=14,\n",
    "        min_samples_split=2,\n",
    "        min_samples_leaf=2,\n",
    "        max_features=\"sqrt\",\n",
    "        bootstrap=True,\n",
    "        random_state=SPLIT_RANDOM_STATE,\n",
    "        n_jobs=-1,\n",
    "    )\n",
    "    model.fit(X_training, y_training, sample_weight=weights)\n",
    "    \n",
    "    train_pred = model.predict(X_training)\n",
    "    test_pred = model.predict(X_validation)\n",
    "    \n",
    "    train_rmse = root_mean_squared_error(y_training, train_pred)\n",
    "    test_rmse = root_mean_squared_error(y_validation, test_pred)\n",
    "    \n",
    "    train_errors.append(train_rmse)\n",
    "    test_errors.append(test_rmse)\n",
    "plt.plot(range(100, 1300, 200), train_errors, label=\"Train data\")\n",
    "plt.plot(range(100, 1300, 200), test_errors, label=\"Test data\")\n",
    "plt.xlabel(\"n_estimators\")\n",
    "plt.ylabel(\"RMSE\")\n",
    "plt.title(\"RMSE n_estimators\")\n",
    "plt.legend()\n",
    "plt.show()"
   ]
  },
  {
   "cell_type": "code",
   "execution_count": null,
   "id": "66c6f283-5b2d-4e83-b6ae-f10e15970077",
   "metadata": {},
   "outputs": [],
   "source": [
    "train_errors = []\n",
    "test_errors = []\n",
    "\n",
    "for depth in range(2, 20, 2):\n",
    "    model = RandomForestRegressor(\n",
    "        n_estimators=500,\n",
    "        max_depth=depth,\n",
    "        min_samples_split=2,\n",
    "        min_samples_leaf=3,\n",
    "        max_features=\"sqrt\",\n",
    "        bootstrap=True,\n",
    "        random_state=SPLIT_RANDOM_STATE\n",
    "    )\n",
    "    model.fit(X_training, y_training, sample_weight=weights)\n",
    "    \n",
    "    train_pred = model.predict(X_training)\n",
    "    test_pred = model.predict(X_validation)\n",
    "    \n",
    "    train_rmse = root_mean_squared_error(y_training, train_pred)\n",
    "    test_rmse = root_mean_squared_error(y_validation, test_pred)\n",
    "    \n",
    "    train_errors.append(train_rmse)\n",
    "    test_errors.append(test_rmse)\n",
    "\n",
    "plt.plot(range(2, 20, 2), train_errors, label=\"Train data\")\n",
    "plt.plot(range(2, 20, 2), test_errors, label=\"Test data\")\n",
    "plt.xlabel(\"max_depth\")\n",
    "plt.ylabel(\"RMSE\")\n",
    "plt.title(\"RMSE max_depth\")\n",
    "plt.legend()\n",
    "plt.show()"
   ]
  },
  {
   "cell_type": "markdown",
   "id": "4cd6cd23-13d3-4655-bde6-c48360a18aa2",
   "metadata": {},
   "source": [
    "## Generate output file"
   ]
  },
  {
   "cell_type": "code",
   "execution_count": null,
   "id": "9378a648-6fc5-4cbc-b619-5642d9949c9b",
   "metadata": {},
   "outputs": [],
   "source": [
    "text_file_name = f\"rf_parameters_set_{PARAMETERS_SET}.txt\"\n",
    "\n",
    "with open(text_file_name, \"w\") as f:\n",
    "    if TUNE_HYPERPARAMETERS:\n",
    "        f.write(\"Best parameters:\\n\")\n",
    "        for parameter in grid_search.best_params_:\n",
    "            f.write(f\"{parameter}: {grid_search.best_params_[parameter]}\\n\\n\")\n",
    "    f.write(\"Performance for unknown data:\\n\")\n",
    "    f.write(f\"Root Mean Squared Error: {rmse:.2f}\\n\")\n",
    "    f.write(f\"R-squared value: {r_squared:.2f}\\n\")\n",
    "    f.write(\"\\nPerformance for known data:\\n\")\n",
    "    f.write(f\"Root Mean Squared Error: {rmse_training:.2f}\\n\")\n",
    "    f.write(f\"R-squared value: {r_squared_training:.2f}\\n\")\n",
    "    f.write(\"\\nFeature importances:\\n\")\n",
    "    f.write(coeffs.sort_values(ascending=False).to_string())\n",
    "    f.write(f\"\\nCross-validated RMSE: {-scores.mean():.2f} +/- {scores.std():.2f}\\n\")"
   ]
  },
  {
   "cell_type": "code",
   "execution_count": null,
   "id": "83d0984f-d9b9-4ccd-8a46-44d0e83097d3",
   "metadata": {},
   "outputs": [],
   "source": []
  }
 ],
 "metadata": {
  "kernelspec": {
   "display_name": "Python 3 (ipykernel)",
   "language": "python",
   "name": "python3"
  },
  "language_info": {
   "codemirror_mode": {
    "name": "ipython",
    "version": 3
   },
   "file_extension": ".py",
   "mimetype": "text/x-python",
   "name": "python",
   "nbconvert_exporter": "python",
   "pygments_lexer": "ipython3",
   "version": "3.12.10"
  }
 },
 "nbformat": 4,
 "nbformat_minor": 5
}
